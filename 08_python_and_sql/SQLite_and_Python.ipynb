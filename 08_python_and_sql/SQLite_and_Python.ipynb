{
 "cells": [
  {
   "cell_type": "code",
   "execution_count": 1,
   "metadata": {},
   "outputs": [
    {
     "data": {
      "text/html": [
       "<div>\n",
       "<style scoped>\n",
       "    .dataframe tbody tr th:only-of-type {\n",
       "        vertical-align: middle;\n",
       "    }\n",
       "\n",
       "    .dataframe tbody tr th {\n",
       "        vertical-align: top;\n",
       "    }\n",
       "\n",
       "    .dataframe thead th {\n",
       "        text-align: right;\n",
       "    }\n",
       "</style>\n",
       "<table border=\"1\" class=\"dataframe\">\n",
       "  <thead>\n",
       "    <tr style=\"text-align: right;\">\n",
       "      <th></th>\n",
       "      <th>stop_id</th>\n",
       "      <th>stop_name</th>\n",
       "      <th>stop_lat</th>\n",
       "      <th>stop_lon</th>\n",
       "      <th>stop_code</th>\n",
       "      <th>location_type</th>\n",
       "      <th>parent_station</th>\n",
       "      <th>wheelchair_boarding</th>\n",
       "      <th>stop_direction</th>\n",
       "    </tr>\n",
       "  </thead>\n",
       "  <tbody>\n",
       "    <tr>\n",
       "      <th>0</th>\n",
       "      <td>002133</td>\n",
       "      <td>Örs vezér tere M+H, déli tárolótér</td>\n",
       "      <td>47.500366</td>\n",
       "      <td>19.135700</td>\n",
       "      <td>NaN</td>\n",
       "      <td>NaN</td>\n",
       "      <td>NaN</td>\n",
       "      <td>2.0</td>\n",
       "      <td>NaN</td>\n",
       "    </tr>\n",
       "    <tr>\n",
       "      <th>1</th>\n",
       "      <td>002136</td>\n",
       "      <td>Fogas üzem (kapu)</td>\n",
       "      <td>47.509119</td>\n",
       "      <td>19.014403</td>\n",
       "      <td>NaN</td>\n",
       "      <td>NaN</td>\n",
       "      <td>NaN</td>\n",
       "      <td>NaN</td>\n",
       "      <td>NaN</td>\n",
       "    </tr>\n",
       "    <tr>\n",
       "      <th>2</th>\n",
       "      <td>002138</td>\n",
       "      <td>Kőbánya alsó vasútállomás</td>\n",
       "      <td>47.483139</td>\n",
       "      <td>19.127891</td>\n",
       "      <td>NaN</td>\n",
       "      <td>NaN</td>\n",
       "      <td>NaN</td>\n",
       "      <td>2.0</td>\n",
       "      <td>NaN</td>\n",
       "    </tr>\n",
       "    <tr>\n",
       "      <th>3</th>\n",
       "      <td>003002</td>\n",
       "      <td>Puskás Ferenc Stadion M</td>\n",
       "      <td>47.500368</td>\n",
       "      <td>19.103406</td>\n",
       "      <td>NaN</td>\n",
       "      <td>NaN</td>\n",
       "      <td>NaN</td>\n",
       "      <td>2.0</td>\n",
       "      <td>NaN</td>\n",
       "    </tr>\n",
       "    <tr>\n",
       "      <th>4</th>\n",
       "      <td>003105</td>\n",
       "      <td>Bécsi út / Vörösvári út</td>\n",
       "      <td>47.548817</td>\n",
       "      <td>19.029722</td>\n",
       "      <td>NaN</td>\n",
       "      <td>NaN</td>\n",
       "      <td>NaN</td>\n",
       "      <td>2.0</td>\n",
       "      <td>NaN</td>\n",
       "    </tr>\n",
       "  </tbody>\n",
       "</table>\n",
       "</div>"
      ],
      "text/plain": [
       "  stop_id                           stop_name   stop_lat   stop_lon stop_code  \\\n",
       "0  002133  Örs vezér tere M+H, déli tárolótér  47.500366  19.135700       NaN   \n",
       "1  002136                   Fogas üzem (kapu)  47.509119  19.014403       NaN   \n",
       "2  002138           Kőbánya alsó vasútállomás  47.483139  19.127891       NaN   \n",
       "3  003002             Puskás Ferenc Stadion M  47.500368  19.103406       NaN   \n",
       "4  003105             Bécsi út / Vörösvári út  47.548817  19.029722       NaN   \n",
       "\n",
       "   location_type parent_station  wheelchair_boarding  stop_direction  \n",
       "0            NaN            NaN                  2.0             NaN  \n",
       "1            NaN            NaN                  NaN             NaN  \n",
       "2            NaN            NaN                  2.0             NaN  \n",
       "3            NaN            NaN                  2.0             NaN  \n",
       "4            NaN            NaN                  2.0             NaN  "
      ]
     },
     "execution_count": 1,
     "metadata": {},
     "output_type": "execute_result"
    }
   ],
   "source": [
    "# Balazs Balogh - 2019-03-01\n",
    "\n",
    "import pandas as pd\n",
    "import sqlite3\n",
    "\n",
    "stops_orig = pd.read_csv('https://raw.githubusercontent.com/DatasRev/workshop-prep/master/08_Python_and_SQL/stops.txt')\n",
    "stops_orig.head()"
   ]
  },
  {
   "cell_type": "markdown",
   "metadata": {},
   "source": [
    "Miután betöltöttük a szükséges könyvtárakat, és a sample filet, megvizsgáljuk, hogy a nekünk kellő mezők töltve vannak-e. Az első négy mezőben nincs NaN érték, így nem szükséges adatot tisztítani."
   ]
  },
  {
   "cell_type": "code",
   "execution_count": 2,
   "metadata": {},
   "outputs": [
    {
     "name": "stdout",
     "output_type": "stream",
     "text": [
      "<class 'pandas.core.frame.DataFrame'>\n",
      "RangeIndex: 5871 entries, 0 to 5870\n",
      "Data columns (total 9 columns):\n",
      "stop_id                5871 non-null object\n",
      "stop_name              5871 non-null object\n",
      "stop_lat               5871 non-null float64\n",
      "stop_lon               5871 non-null float64\n",
      "stop_code              600 non-null object\n",
      "location_type          312 non-null float64\n",
      "parent_station         462 non-null object\n",
      "wheelchair_boarding    5688 non-null float64\n",
      "stop_direction         4986 non-null float64\n",
      "dtypes: float64(5), object(4)\n",
      "memory usage: 412.9+ KB\n"
     ]
    }
   ],
   "source": [
    "stops_orig.info()"
   ]
  },
  {
   "cell_type": "markdown",
   "metadata": {},
   "source": [
    "Az első négy oszlopot külön változóba mentjük."
   ]
  },
  {
   "cell_type": "code",
   "execution_count": 3,
   "metadata": {},
   "outputs": [
    {
     "data": {
      "text/html": [
       "<div>\n",
       "<style scoped>\n",
       "    .dataframe tbody tr th:only-of-type {\n",
       "        vertical-align: middle;\n",
       "    }\n",
       "\n",
       "    .dataframe tbody tr th {\n",
       "        vertical-align: top;\n",
       "    }\n",
       "\n",
       "    .dataframe thead th {\n",
       "        text-align: right;\n",
       "    }\n",
       "</style>\n",
       "<table border=\"1\" class=\"dataframe\">\n",
       "  <thead>\n",
       "    <tr style=\"text-align: right;\">\n",
       "      <th></th>\n",
       "      <th>stop_id</th>\n",
       "      <th>stop_name</th>\n",
       "      <th>stop_lat</th>\n",
       "      <th>stop_lon</th>\n",
       "    </tr>\n",
       "  </thead>\n",
       "  <tbody>\n",
       "    <tr>\n",
       "      <th>0</th>\n",
       "      <td>002133</td>\n",
       "      <td>Örs vezér tere M+H, déli tárolótér</td>\n",
       "      <td>47.500366</td>\n",
       "      <td>19.135700</td>\n",
       "    </tr>\n",
       "    <tr>\n",
       "      <th>1</th>\n",
       "      <td>002136</td>\n",
       "      <td>Fogas üzem (kapu)</td>\n",
       "      <td>47.509119</td>\n",
       "      <td>19.014403</td>\n",
       "    </tr>\n",
       "    <tr>\n",
       "      <th>2</th>\n",
       "      <td>002138</td>\n",
       "      <td>Kőbánya alsó vasútállomás</td>\n",
       "      <td>47.483139</td>\n",
       "      <td>19.127891</td>\n",
       "    </tr>\n",
       "    <tr>\n",
       "      <th>3</th>\n",
       "      <td>003002</td>\n",
       "      <td>Puskás Ferenc Stadion M</td>\n",
       "      <td>47.500368</td>\n",
       "      <td>19.103406</td>\n",
       "    </tr>\n",
       "    <tr>\n",
       "      <th>4</th>\n",
       "      <td>003105</td>\n",
       "      <td>Bécsi út / Vörösvári út</td>\n",
       "      <td>47.548817</td>\n",
       "      <td>19.029722</td>\n",
       "    </tr>\n",
       "  </tbody>\n",
       "</table>\n",
       "</div>"
      ],
      "text/plain": [
       "  stop_id                           stop_name   stop_lat   stop_lon\n",
       "0  002133  Örs vezér tere M+H, déli tárolótér  47.500366  19.135700\n",
       "1  002136                   Fogas üzem (kapu)  47.509119  19.014403\n",
       "2  002138           Kőbánya alsó vasútállomás  47.483139  19.127891\n",
       "3  003002             Puskás Ferenc Stadion M  47.500368  19.103406\n",
       "4  003105             Bécsi út / Vörösvári út  47.548817  19.029722"
      ]
     },
     "execution_count": 3,
     "metadata": {},
     "output_type": "execute_result"
    }
   ],
   "source": [
    "stops = stops_orig[['stop_id', 'stop_name', 'stop_lat', 'stop_lon']]\n",
    "stops.head()"
   ]
  },
  {
   "cell_type": "markdown",
   "metadata": {},
   "source": [
    "Hogy jól be tudjuk lőni, hogy mekkora mezőméretek kellenek, megnézzük a stop_name leghosszabb sorát.\n",
    "Az SQLite épp nem kezeli a VARCHAR mögötti számértéket (pl. VARCHAR(255)), mivel TEXT-ként kezeli, de más adatbázisnál jól jöhet.\n",
    "Akár egy for loopot is lehet rá írni, hogy mondja meg az összes object típusú oszlopról, hogy melyik a leghosszabb érték."
   ]
  },
  {
   "cell_type": "code",
   "execution_count": 4,
   "metadata": {},
   "outputs": [
    {
     "data": {
      "text/plain": [
       "40"
      ]
     },
     "execution_count": 4,
     "metadata": {},
     "output_type": "execute_result"
    }
   ],
   "source": [
    "stops.stop_name.map(len).max()  #megnézi, hogy melyik a leghosszabb string az oszlopban"
   ]
  },
  {
   "cell_type": "markdown",
   "metadata": {},
   "source": [
    "Defaultban a notebook könyvtárába rakja az adatbázist is. Egy if-else kell, hogy ha többször futtatjuk, akkor továbbmehessen a notebook futtatás. A notebook ezen része példa arra, hogy hogy insertálunk adatbázisba adatot. A ''' ''' páros nem csak a sortörés lehetősége miatt kell, hanem a közbenső stringek idézőjelben maradása miatt is. Példa az if-ben lévő select 'bkk_stops' része."
   ]
  },
  {
   "cell_type": "code",
   "execution_count": 5,
   "metadata": {},
   "outputs": [],
   "source": [
    "db = sqlite3.connect('bkk_gtfs.db')\n",
    "cursor = db.cursor()\n",
    "\n",
    "# ez az elso lepes, drop-oljuk a táblát, ha már van, \n",
    "\n",
    "if cursor.execute('''select count() from sqlite_master where name = 'bkk_stops' ''').fetchone() == (0,):\n",
    "\n",
    "    cursor.execute(\n",
    "    '''\n",
    "    CREATE TABLE bkk_stops(\n",
    "           stop_id TEXT PRIMARY KEY,\n",
    "           stop_name TEXT,\n",
    "           stop_lat REAL,\n",
    "           stop_lon REAL)\n",
    "    '''\n",
    "    )\n",
    "\n",
    "    db.commit()\n",
    "\n",
    "    # aztan beinsertalunk, .values.tolist()-el kell listbe rakni a dataframe-et.\n",
    "    cursor.executemany('''INSERT INTO bkk_stops(stop_id, stop_name, stop_lat, stop_lon) VALUES(?,?,?,?)''',\n",
    "                      stops.values.tolist())\n",
    "    db.commit()\n",
    "\n",
    "else:\n",
    "    cursor.execute('DELETE FROM bkk_stops;')\n",
    "    db.commit()\n",
    "    \n",
    "    cursor.executemany('''INSERT INTO bkk_stops(stop_id, stop_name, stop_lat, stop_lon) VALUES(?,?,?,?)''',\n",
    "                      stops.values.tolist())\n",
    "    db.commit()"
   ]
  },
  {
   "cell_type": "markdown",
   "metadata": {},
   "source": [
    "Teszteljük egy lekérdezéssel, a fetchall() parancs adja vissza az összes sort, de kapott egy tizes limitet."
   ]
  },
  {
   "cell_type": "code",
   "execution_count": 6,
   "metadata": {},
   "outputs": [
    {
     "data": {
      "text/plain": [
       "[('002133', 'Örs vezér tere M+H, déli tárolótér', 47.500366, 19.1357),\n",
       " ('002136', 'Fogas üzem (kapu)', 47.509119, 19.014403),\n",
       " ('002138', 'Kőbánya alsó vasútállomás', 47.483139, 19.127891),\n",
       " ('003002', 'Puskás Ferenc Stadion M', 47.500368, 19.103406),\n",
       " ('003105', 'Bécsi út / Vörösvári út', 47.548817, 19.029722),\n",
       " ('003106', 'Örs vezér tere M+H, északi tároló', 47.50516, 19.136637),\n",
       " ('003118', 'Óbuda, Bogdáni út', 47.551471, 19.041971),\n",
       " ('003691', 'Békásmegyer, fordító F2/1', 47.599622, 19.055682),\n",
       " ('004716', 'ÉD metró járműtelep,porta', 47.469651, 19.129089999999998),\n",
       " ('004948', 'Metró ÉD járműtelep (kapu)', 47.465239000000004, 19.142612)]"
      ]
     },
     "execution_count": 6,
     "metadata": {},
     "output_type": "execute_result"
    }
   ],
   "source": [
    "cursor.execute('SELECT * FROM bkk_stops LIMIT 10').fetchall()"
   ]
  },
  {
   "cell_type": "markdown",
   "metadata": {},
   "source": [
    "Beolvassuk egy DataFrame-be a teljes bkk_stops táblát. A db változót kell odaadni neki, abban van a kapcsolat az SQLite adatbázissal."
   ]
  },
  {
   "cell_type": "code",
   "execution_count": 7,
   "metadata": {},
   "outputs": [
    {
     "name": "stdout",
     "output_type": "stream",
     "text": [
      "<class 'pandas.core.frame.DataFrame'>\n",
      "RangeIndex: 5871 entries, 0 to 5870\n",
      "Data columns (total 4 columns):\n",
      "stop_id      5871 non-null object\n",
      "stop_name    5871 non-null object\n",
      "stop_lat     5871 non-null float64\n",
      "stop_lon     5871 non-null float64\n",
      "dtypes: float64(2), object(2)\n",
      "memory usage: 183.5+ KB\n"
     ]
    }
   ],
   "source": [
    "bkk_stops = pd.read_sql_query('SELECT * FROM bkk_stops', db)\n",
    "\n",
    "bkk_stops.info()"
   ]
  },
  {
   "cell_type": "code",
   "execution_count": 8,
   "metadata": {},
   "outputs": [
    {
     "data": {
      "text/html": [
       "<div>\n",
       "<style scoped>\n",
       "    .dataframe tbody tr th:only-of-type {\n",
       "        vertical-align: middle;\n",
       "    }\n",
       "\n",
       "    .dataframe tbody tr th {\n",
       "        vertical-align: top;\n",
       "    }\n",
       "\n",
       "    .dataframe thead th {\n",
       "        text-align: right;\n",
       "    }\n",
       "</style>\n",
       "<table border=\"1\" class=\"dataframe\">\n",
       "  <thead>\n",
       "    <tr style=\"text-align: right;\">\n",
       "      <th></th>\n",
       "      <th>stop_id</th>\n",
       "      <th>stop_name</th>\n",
       "      <th>stop_lat</th>\n",
       "      <th>stop_lon</th>\n",
       "    </tr>\n",
       "  </thead>\n",
       "  <tbody>\n",
       "    <tr>\n",
       "      <th>0</th>\n",
       "      <td>002133</td>\n",
       "      <td>Örs vezér tere M+H, déli tárolótér</td>\n",
       "      <td>47.500366</td>\n",
       "      <td>19.135700</td>\n",
       "    </tr>\n",
       "    <tr>\n",
       "      <th>1</th>\n",
       "      <td>002136</td>\n",
       "      <td>Fogas üzem (kapu)</td>\n",
       "      <td>47.509119</td>\n",
       "      <td>19.014403</td>\n",
       "    </tr>\n",
       "    <tr>\n",
       "      <th>2</th>\n",
       "      <td>002138</td>\n",
       "      <td>Kőbánya alsó vasútállomás</td>\n",
       "      <td>47.483139</td>\n",
       "      <td>19.127891</td>\n",
       "    </tr>\n",
       "    <tr>\n",
       "      <th>3</th>\n",
       "      <td>003002</td>\n",
       "      <td>Puskás Ferenc Stadion M</td>\n",
       "      <td>47.500368</td>\n",
       "      <td>19.103406</td>\n",
       "    </tr>\n",
       "    <tr>\n",
       "      <th>4</th>\n",
       "      <td>003105</td>\n",
       "      <td>Bécsi út / Vörösvári út</td>\n",
       "      <td>47.548817</td>\n",
       "      <td>19.029722</td>\n",
       "    </tr>\n",
       "  </tbody>\n",
       "</table>\n",
       "</div>"
      ],
      "text/plain": [
       "  stop_id                           stop_name   stop_lat   stop_lon\n",
       "0  002133  Örs vezér tere M+H, déli tárolótér  47.500366  19.135700\n",
       "1  002136                   Fogas üzem (kapu)  47.509119  19.014403\n",
       "2  002138           Kőbánya alsó vasútállomás  47.483139  19.127891\n",
       "3  003002             Puskás Ferenc Stadion M  47.500368  19.103406\n",
       "4  003105             Bécsi út / Vörösvári út  47.548817  19.029722"
      ]
     },
     "execution_count": 8,
     "metadata": {},
     "output_type": "execute_result"
    }
   ],
   "source": [
    "bkk_stops.head()"
   ]
  },
  {
   "cell_type": "markdown",
   "metadata": {},
   "source": [
    "Listába kell rakni a dataframe-et, hogy olvasni tudja a folium"
   ]
  },
  {
   "cell_type": "code",
   "execution_count": 9,
   "metadata": {},
   "outputs": [
    {
     "data": {
      "text/plain": [
       "[[47.500366, 19.1357],\n",
       " [47.509119, 19.014403],\n",
       " [47.483139, 19.127891],\n",
       " [47.500368, 19.103406],\n",
       " [47.548817, 19.029722],\n",
       " [47.50516, 19.136637],\n",
       " [47.551471, 19.041971],\n",
       " [47.599622, 19.055682],\n",
       " [47.469651, 19.129089999999998],\n",
       " [47.465239000000004, 19.142612]]"
      ]
     },
     "execution_count": 9,
     "metadata": {},
     "output_type": "execute_result"
    }
   ],
   "source": [
    "stops_latlon = bkk_stops[['stop_lat', 'stop_lon']].values.tolist()\n",
    "stops_latlon[:10]"
   ]
  },
  {
   "cell_type": "markdown",
   "metadata": {},
   "source": [
    "! A folium nem része az Anacondának, a telepítése az anaconda command promptba beírt \"conda install -c conda-forge folium\" parancsot kell futttatni. !\n",
    "\n",
    "Folium importálása, és egy üres map létrehozása egy budapesti koordinátával a középpontban. A popup attribútuma a Markernek teszi rá a megálló nevét a jelzésre.\n",
    "Ezután jön az 5000 megálló kirajzolása, ami a méreténél fogva igényli a MarkerCluster-t, hogy összesítsen megállókat.\n",
    "Opcionálisan html-be mentjük, majd ezt hívjuk meg.\n",
    "A térképet is az anaconda mappájába fogja rakni."
   ]
  },
  {
   "cell_type": "code",
   "execution_count": 10,
   "metadata": {},
   "outputs": [],
   "source": [
    "import folium\n",
    "from folium.plugins import MarkerCluster\n",
    "\n",
    "folium_map = folium.Map(location=[47.500368, 19.103406],\n",
    "                        zoom_start=13,\n",
    "                        tiles=\"cartodbpositron\")\n",
    "\n",
    "# Üres map kirajzoltatása\n",
    "# folium_map"
   ]
  },
  {
   "cell_type": "code",
   "execution_count": 11,
   "metadata": {},
   "outputs": [],
   "source": [
    "folium_map = folium.Map(location=[47.500368, 19.103406],\n",
    "                        zoom_start=13,\n",
    "                        tiles=\"cartodbpositron\")\n",
    "\n",
    "marker_cluster = MarkerCluster().add_to(folium_map)\n",
    "\n",
    "for point in range(0, len(stops_latlon)):\n",
    "    folium.Marker(stops_latlon[point], popup=stops['stop_name'][point]).add_to(marker_cluster)\n",
    "\n",
    "folium_map.save(\"base_map.html\")"
   ]
  },
  {
   "cell_type": "code",
   "execution_count": 12,
   "metadata": {},
   "outputs": [
    {
     "data": {
      "text/html": [
       "\n",
       "        <iframe\n",
       "            width=\"700\"\n",
       "            height=\"450\"\n",
       "            src=\"base_map.html\"\n",
       "            frameborder=\"0\"\n",
       "            allowfullscreen\n",
       "        ></iframe>\n",
       "        "
      ],
      "text/plain": [
       "<IPython.lib.display.IFrame at 0x14f07399c18>"
      ]
     },
     "execution_count": 12,
     "metadata": {},
     "output_type": "execute_result"
    }
   ],
   "source": [
    "from IPython.display import IFrame\n",
    "IFrame(\"base_map.html\", width=700, height=450)"
   ]
  }
 ],
 "metadata": {
  "kernelspec": {
   "display_name": "Python 3",
   "language": "python",
   "name": "python3"
  },
  "language_info": {
   "codemirror_mode": {
    "name": "ipython",
    "version": 3
   },
   "file_extension": ".py",
   "mimetype": "text/x-python",
   "name": "python",
   "nbconvert_exporter": "python",
   "pygments_lexer": "ipython3",
   "version": "3.7.1"
  }
 },
 "nbformat": 4,
 "nbformat_minor": 2
}
