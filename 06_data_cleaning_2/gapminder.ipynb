{
 "cells": [
  {
   "cell_type": "code",
   "execution_count": null,
   "metadata": {},
   "outputs": [],
   "source": [
    "import pandas as pd\n",
    "import numpy as np\n",
    "import matplotlib.pyplot as plt\n",
    "\n",
    "#gap = pd.read_csv('c:\\DatasRev\\gapminder.csv')\n",
    "gap = pd.read_csv('https://raw.githubusercontent.com/DatasRev/workshop-prep/master/06_data_cleaning_2/gapminder.csv')\n",
    "gap.head()"
   ]
  },
  {
   "cell_type": "markdown",
   "metadata": {},
   "source": [
    "Life expentancy oszlopot indexnek illetve Country-ra átnevezni, NaN értékek kezelése, Unnamed oszlopot eltűntetni,tidy data három oszlopra (country, year, life_expectancy)."
   ]
  },
  {
   "cell_type": "code",
   "execution_count": null,
   "metadata": {},
   "outputs": [],
   "source": [
    "# Adatszett vizsgálata, 780 sor, 219 oszlop, amiből egy object, a többi float és int.\n",
    "gap.info()"
   ]
  },
  {
   "cell_type": "code",
   "execution_count": null,
   "metadata": {},
   "outputs": [],
   "source": [
    "# Az object típusú oszlop jelen esetben string, nincsenek közte számok, nem kell típuskonverzió.\n",
    "# 780 sor van, több, mint a jelenlegi országok száma.\n",
    "\n",
    "gap.select_dtypes(include=['object']).head()"
   ]
  },
  {
   "cell_type": "markdown",
   "metadata": {},
   "source": [
    "Dropolni kell az Unnamed: 0 oszlopot, anélkül nem fogja tudni jól értelmezni a pd.melt parancsot. Meg kell adni az axis-t is, jelen esetben az 1-et, az jelenti az oszlopot, anélkül KeyError: \"['Unnamed: 0'] not found in axis\" hibát fog dobni."
   ]
  },
  {
   "cell_type": "code",
   "execution_count": null,
   "metadata": {},
   "outputs": [],
   "source": [
    "gap = gap.drop('Unnamed: 0', 1)\n",
    "gap"
   ]
  },
  {
   "cell_type": "markdown",
   "metadata": {},
   "source": [
    "Táblázat összeolvassztása, a 'Life expectancy' oszlopot indexként használva. Átnevezzük az oszlopokat az áttekinthetőség miatt, hogy ne variable, meg value legyen a két név."
   ]
  },
  {
   "cell_type": "code",
   "execution_count": null,
   "metadata": {},
   "outputs": [],
   "source": [
    "gap_melt = pd.melt(gap, id_vars='Life expectancy')\n",
    "gap_melt.columns = ['country', 'year', 'life_expectancy']\n",
    "gap_melt.head()"
   ]
  },
  {
   "cell_type": "code",
   "execution_count": null,
   "metadata": {},
   "outputs": [],
   "source": [
    "# A melt után a year oszlop object, azaz string lett, ezt vissza kell alakítani.\n",
    "gap_melt.info()"
   ]
  },
  {
   "cell_type": "markdown",
   "metadata": {},
   "source": [
    "Az assert paranccsal ellenőrizhető az átalakítás eredménye. Ha nem ad vissza hibaüzenetet, az azt jelenti, hogy átment a teszten, TRUE-ra értékelődött. Mivel itt kevés az oszlop, a könnyebb láthatóság kedvéért lekértem a .info()-t is, int64 lett."
   ]
  },
  {
   "cell_type": "code",
   "execution_count": null,
   "metadata": {},
   "outputs": [],
   "source": [
    "gap_melt['year'] = pd.to_numeric(gap_melt['year'])\n",
    "assert gap_melt.year.dtypes == np.int64\n",
    "gap_melt.info()"
   ]
  },
  {
   "cell_type": "markdown",
   "metadata": {},
   "source": [
    "A következő lépés a 'country' oszlop tartalmának átnézése, van-e bármilyen speciális, vagy helytelen karakter a nevekben. Ehhez először szűrjük az oszlopot a duplikációtól. "
   ]
  },
  {
   "cell_type": "code",
   "execution_count": null,
   "metadata": {},
   "outputs": [],
   "source": [
    "countries = gap_melt['country']\n",
    "countries.count()"
   ]
  },
  {
   "cell_type": "code",
   "execution_count": null,
   "metadata": {},
   "outputs": [],
   "source": [
    "countries = countries.drop_duplicates()\n",
    "countries.count()"
   ]
  },
  {
   "cell_type": "markdown",
   "metadata": {},
   "source": [
    "Regexp segítségével összeállítunk egy mintát, hogy szerintünk mik szerepelnek egy országnévben: kisbetű, nagybetű, pont, szóköz.\n",
    "\"Anchor the pattern to match exactly what you want by placing a ^ in the beginning and $ in the end.\n",
    "Use A-Za-z to match the set of lower and upper case letters, \\. to match periods, and \\s to match whitespace between words.\"\n",
    "\n",
    "A mask változónak odaadjuk ezt a mintát, kihasználva a countries stringeknél használható contains parancsot, ami bool értéket ad vissza.\n",
    "\n",
    "A mask-ot meghívva látjuk, hogy egy series az eredmény, True/False értékekkel.\n",
    "\n",
    "A ~ karakterrel megfordítjuk az eredményt, ez látszik is a példánál."
   ]
  },
  {
   "cell_type": "code",
   "execution_count": null,
   "metadata": {},
   "outputs": [],
   "source": [
    "pattern = '^[A-Za-z\\.\\s]*$'\n",
    "mask = countries.str.contains(pattern)\n",
    "mask.head()"
   ]
  },
  {
   "cell_type": "code",
   "execution_count": null,
   "metadata": {},
   "outputs": [],
   "source": [
    "mask_inverse = ~mask\n",
    "mask_inverse.head()"
   ]
  },
  {
   "cell_type": "markdown",
   "metadata": {},
   "source": [
    "Lekérjük azokat az országokat, amikben általunk nem engedett karakterek vannak."
   ]
  },
  {
   "cell_type": "code",
   "execution_count": null,
   "metadata": {},
   "outputs": [],
   "source": [
    "invalid_countries = countries.loc[mask_inverse]\n",
    "invalid_countries"
   ]
  },
  {
   "cell_type": "markdown",
   "metadata": {},
   "source": [
    "Ellenőrizzük, hogy a year, és a country oszlopokban nincs-e NULL sor. A life_expentancyt nem kell ellenőrizni, arról tudjuk, hogy rengeteg a hiányos adat. A dropna után negyedelődik a sorok száma."
   ]
  },
  {
   "cell_type": "code",
   "execution_count": null,
   "metadata": {},
   "outputs": [],
   "source": [
    "gap_melt.count()"
   ]
  },
  {
   "cell_type": "code",
   "execution_count": null,
   "metadata": {},
   "outputs": [],
   "source": [
    "assert pd.notnull(gap_melt.country).all()\n",
    "assert pd.notnull(gap_melt.year).all()\n",
    "gap_melt = gap_melt.dropna()\n",
    "gap_melt.count()"
   ]
  },
  {
   "cell_type": "code",
   "execution_count": null,
   "metadata": {},
   "outputs": [],
   "source": [
    "gap_melt.sample(10)"
   ]
  },
  {
   "cell_type": "markdown",
   "metadata": {},
   "source": [
    "Most, hogy megvan a tisztított adatszett, egy gyors vizualizációval megnézhetjük, hogy jónak tűnnek-e a life_expentancy adatok. Ha nincs 0-nál kisebb adat, az jó jel."
   ]
  },
  {
   "cell_type": "code",
   "execution_count": null,
   "metadata": {},
   "outputs": [],
   "source": [
    "gap_melt['life_expectancy'].plot(kind='hist', bins=15)"
   ]
  },
  {
   "cell_type": "markdown",
   "metadata": {},
   "source": [
    "A végső vizualizációval megnézzük, hogyan változott az évek alatt az átlagéletkor. Ehhez groupby-olni kell évenként az átlagéletkort, és megjeleníteni."
   ]
  },
  {
   "cell_type": "code",
   "execution_count": null,
   "metadata": {},
   "outputs": [],
   "source": [
    "gap_agg = gap_melt.groupby('year')['life_expectancy'].mean()\n",
    "gap_agg.tail()"
   ]
  },
  {
   "cell_type": "code",
   "execution_count": null,
   "metadata": {},
   "outputs": [],
   "source": [
    "plt.title('Life expectancy over the years')\n",
    "plt.ylabel('Life expectancy')\n",
    "plt.xlabel('Year')\n",
    "gap_agg.plot()"
   ]
  },
  {
   "cell_type": "markdown",
   "metadata": {},
   "source": [
    "Ha már ennyit dolgoztunk, illik el is menteni."
   ]
  },
  {
   "cell_type": "code",
   "execution_count": null,
   "metadata": {},
   "outputs": [],
   "source": [
    "gap_melt.to_csv('gapminder.csv')\n",
    "gap_agg.to_csv('gapminder_agg.csv')"
   ]
  },
  {
   "cell_type": "code",
   "execution_count": null,
   "metadata": {},
   "outputs": [],
   "source": []
  },
  {
   "cell_type": "code",
   "execution_count": null,
   "metadata": {},
   "outputs": [],
   "source": []
  }
 ],
 "metadata": {
  "kernelspec": {
   "display_name": "Python 3",
   "language": "python",
   "name": "python3"
  },
  "language_info": {
   "codemirror_mode": {
    "name": "ipython",
    "version": 3
   },
   "file_extension": ".py",
   "mimetype": "text/x-python",
   "name": "python",
   "nbconvert_exporter": "python",
   "pygments_lexer": "ipython3",
   "version": "3.7.1"
  }
 },
 "nbformat": 4,
 "nbformat_minor": 2
}
